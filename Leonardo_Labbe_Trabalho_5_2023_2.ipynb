{
  "nbformat": 4,
  "nbformat_minor": 0,
  "metadata": {
    "colab": {
      "provenance": []
    },
    "language_info": {
      "name": "python"
    },
    "kernelspec": {
      "name": "python3",
      "display_name": "Python 3"
    }
  },
  "cells": [
    {
      "cell_type": "markdown",
      "metadata": {
        "id": "MSRVgJX_J3Nf"
      },
      "source": [
        "#Trabalho prático # 5\n",
        "##Introdução à Computação Numérica\n",
        "\n",
        "###Tópico: Solução de Problemas de Valor Inicial (PVI)\n",
        "\n",
        "---\n",
        "\n",
        "Nome: *Leonardo Labbe*\n",
        "\n",
        "DRE: *122038266*\n",
        "\n",
        "\n",
        "---\n",
        "\n",
        "**Instruções:**\n",
        "\n",
        "**Preencha o notebook** com seus dados, seus códigos e **rode todos os códigos**\n",
        "\n",
        "**Inclua  um relatório, na parte final do notebook,** com suas conclusões, respostas, observações e comentários relacionados com os tópicos e questões abordadas nas tarefas.  \n",
        "\n",
        "**A elaboração dos códigos pode ser realizada em duplas, mas o resto do trabalho é individual.**\n",
        "\n",
        "*Se você fez o seu trabalho em dupla inclua essa informação no relatório. Além disso, se você  também recebeu ajuda de um(a) colega/amigo(a) ou consultou/usou informações da internet ou outras fontes, coloque referências à elas no seu relatório.*\n",
        "\n",
        "\n",
        "**Entrega do trabalho:**\n",
        "\n",
        "*Data de entrega: 16/novembro/2023*\n",
        "\n",
        "---\n"
      ]
    },
    {
      "cell_type": "markdown",
      "metadata": {
        "id": "Ud-A5dLPQsTx"
      },
      "source": [
        "## Tarefa #1:\n",
        "\n",
        " Desenvolver códigos, na forma de funções que implementem:\n",
        "\n",
        "a) O Método de Euler.\n",
        "\n",
        "b) O Método  de Euler aperfeiçoado (ou Método de Heun).\n",
        "\n",
        "c) O Método de Runge-Kutta clássico de quarta ordem.\n",
        "\n"
      ]
    },
    {
      "cell_type": "code",
      "metadata": {
        "id": "jK7hw9i2Onjt"
      },
      "source": [
        "import numpy as np\n",
        "import math as m\n",
        "\n",
        "def euler(f, x0, y0, tf, n):\n",
        "\n",
        "    x = [x0]\n",
        "    y = [x0]\n",
        "    xn = x0\n",
        "    yn = y0\n",
        "\n",
        "    deltaT = float(tf-x0)/n\n",
        "\n",
        "\n",
        "\n",
        "    for i in range(n):\n",
        "        derivada = f(xn, yn)\n",
        "        yn = yn + deltaT*derivada\n",
        "        xn = x0 + (i+1)*deltaT\n",
        "\n",
        "        y.append(yn)\n",
        "        x.append(xn)\n",
        "    return [x, y]"
      ],
      "execution_count": null,
      "outputs": []
    },
    {
      "cell_type": "code",
      "metadata": {
        "id": "0OcP16TOOxMX"
      },
      "source": [
        "import numpy as np\n",
        "import math as m\n",
        "def euler_aprimorado(f, x0, t0, tf, n):\n",
        "\n",
        "    t = [t0]\n",
        "    x = [x0]\n",
        "    tn = t0\n",
        "    x1n = x0\n",
        "\n",
        "    deltaT = float(tf-x0)/n\n",
        "\n",
        "\n",
        "    for n in range(np):\n",
        "\n",
        "        tn = t0 + (n+1)*deltaT\n",
        "        xe = x1n + deltaT*f(tn, x1n)\n",
        "\n",
        "        x1n = x1n + deltaT/2*(f(tn, x1n)+f(tn+deltaT, xe))\n",
        "\n",
        "\n",
        "        x.append(x1n)\n",
        "        t.append(tn)\n",
        "\n",
        "    return [t, x]"
      ],
      "execution_count": null,
      "outputs": []
    },
    {
      "cell_type": "code",
      "metadata": {
        "id": "ma3CCBpuLyMG"
      },
      "source": [
        "import numpy as np\n",
        "import math as m\n",
        "def metodoRungeKutta(funcao, t0, y0, tf, n):\n",
        "    deltaT = float(tf - t0) / n\n",
        "    yn = y0\n",
        "    tn = t0\n",
        "    listT = [t0]\n",
        "    listY = [y0]\n",
        "\n",
        "    for i in range(n):\n",
        "        tn += deltaT\n",
        "        tMedia = tn + 1/2 * deltaT\n",
        "\n",
        "        k1 = deltaT * funcao(tn, yn)\n",
        "        k2 = deltaT * funcao(tMedia, yn + 1/2 * k1)\n",
        "        k3 = deltaT * funcao(tMedia, yn + 1/2 * k2)\n",
        "        k4 = deltaT * funcao(tn + deltaT, yn + k3)\n",
        "\n",
        "        yn = yn + 1/6 * (k1 + 2*k2 + 2*k3 + k4)\n",
        "        listT.append(tn)\n",
        "        listY.append(yn)\n",
        "\n",
        "    return listY, listT"
      ],
      "execution_count": null,
      "outputs": []
    },
    {
      "cell_type": "markdown",
      "metadata": {
        "id": "3oYuYZILVvhL"
      },
      "source": [
        "## Tarefa #2: Propagação de uma doença infecciosa\n",
        "\n",
        "Para modelar a dinâmica de uma doença infecciosa em que os indivíduos que adoecem se recuperam e ficam imunes, é usado o seguinte sistema de três EDOs conhecido como modelo SIR:\n",
        "\n",
        "$$\n",
        "\\left\\{\n",
        "\\begin{aligned}\n",
        "\\frac{d S}{dt} &= -\\beta S I\\\\\n",
        "\\frac{d I}{dt} &= \\beta S I - \\gamma I\\\\\n",
        "\\frac{d R}{dt} &=  \\gamma I\n",
        "\\end{aligned}\n",
        "\\right.\n",
        "$$\n",
        "\n",
        "onde $S$, $I$ e $R$ representam o número de indivíduos suscetíveis, infectados e recuperados, respectivamente, $t$ o tempo,  $\\beta$ a velocidade de contacto ou infecção da doença e $\\gamma$ a taxa de recuperação média.\n",
        "\n",
        "Considere uma cidade com uma população de $10000$ indivíduos todos suscetíveis. Se um único indivíduo infectado entra na cidade no tempo $t = 0$, quantos indivíduos se recuperaram da doença num período de $4$ semanas? Qual foi a quantidade máxima de indivíduos infectados (simultaneamente) durante esse período e em que momento isso aconteceu? Use os parâmetros $\\beta = 0.0003$ $[1/(\\mathit{indivíduo\\cdot dia})]$ e $\\gamma = 0.15$ $[\\mathit{dia}]$.\n",
        "\n",
        "Utilize o seu código do método de RK de $4^a$ ordem (tarefa #1, item c)) para responder a essas questões. Para cada variável procure aproximações com erro absoluto estimado inferior a $0.05$. Explique."
      ]
    },
    {
      "cell_type": "code",
      "metadata": {
        "id": "6Kmmzgkjq_YL",
        "outputId": "736e9f7e-841b-4da2-cacf-dd086dca5c7a",
        "colab": {
          "base_uri": "https://localhost:8080/"
        }
      },
      "source": [
        "import numpy as np\n",
        "import math as m\n",
        "\n",
        "def metodoRungeKutta(funcao, t0, y0, tf, n):\n",
        "    deltaT = float(tf - t0) / n\n",
        "    yn = y0\n",
        "    tn = t0\n",
        "    listT = [t0]\n",
        "    listY = [y0]\n",
        "\n",
        "    for i in range(n):\n",
        "        tn += deltaT\n",
        "        tMedia = tn + 1/2 * deltaT\n",
        "\n",
        "        k1 = deltaT * funcao(tn, yn)\n",
        "        k2 = deltaT * funcao(tMedia, yn + 1/2 * k1)\n",
        "        k3 = deltaT * funcao(tMedia, yn + 1/2 * k2)\n",
        "        k4 = deltaT * funcao(tn + deltaT, yn + k3)\n",
        "\n",
        "        yn = yn + 1/6 * (k1 + 2*k2 + 2*k3 + k4)\n",
        "        listT.append(tn)\n",
        "        listY.append(yn)\n",
        "\n",
        "    return listY, listT\n",
        "\n",
        "S0 = 10000\n",
        "t0 = 0\n",
        "I0 = 1\n",
        "R0 = 0\n",
        "tf = 28\n",
        "gama = 0.15\n",
        "beta = 0.0003\n",
        "erroMax = 0.05\n",
        "\n",
        "\n",
        "y0 = np.array([S0, I0, R0])\n",
        "passos = 27\n",
        "\n",
        "def f(t, y):\n",
        "    return np.array([-beta * y[0] * y[1], beta * y[0] * y[1] - gama * y[1], gama * y[1]])\n",
        "\n",
        "RK_atual, p = metodoRungeKutta(f, t0, y0, tf, 26)\n",
        "ultimoRK = RK_atual[-1]\n",
        "\n",
        "while True:\n",
        "     RK, resultT  = metodoRungeKutta(f, t0, y0, tf, passos)\n",
        "     resultRK = RK[-1]\n",
        "     erroRK = np.abs(resultRK - ultimoRK)\n",
        "\n",
        "     maxInfectados, momentoMax = max((RK[1], resultT) for RK, resultT in zip(RK, resultT))\n",
        "\n",
        "     if np.all(erroRK < erroMax):\n",
        "         break\n",
        "\n",
        "     ultimoRK = resultRK\n",
        "     passos += 1\n",
        "\n",
        "print(f\"Em {passos} passos conseguimos um erro inferior a: {erroMax}.\")\n",
        "print(f\"Indivíduos recuperados: {resultRK[2]}\")\n",
        "print(f\"Máximo de indivíduos infectados: {maxInfectados}\")\n",
        "print(f\"Momento pico da doença: {momentoMax}\")"
      ],
      "execution_count": null,
      "outputs": [
        {
          "output_type": "stream",
          "name": "stdout",
          "text": [
            "Em 60 passos conseguimos um erro inferior a: 0.05.\n",
            "Indivíduos recuperados: 9755.325102589546\n",
            "Máximo de indivíduos infectados: 7947.970611378632\n",
            "Momento pico da doença: 4.2\n"
          ]
        }
      ]
    },
    {
      "cell_type": "markdown",
      "metadata": {
        "id": "isWQBJ32XORa"
      },
      "source": [
        "## Relatório\n",
        "Este trabalho foi realizado com a colaboração do aluno Matheus Hack e também tirei algumas dúvidas com o aluno Matheus Duque, de resto, o notebook do colab sobre resolução de PVIs e alguns outros materiais também foram consultados\n",
        "\n",
        "Tarefa 1: Para a realização dessa tarefa, a consulta do material de resoluções se provou crucial, tentamos fazer todas as questões nos mesmos moldes, dando preferencia para o retorno das funções serem listas contendo os valores de T e Y, o que veio a ser um problema para nós nas futuras questões, sendo necessárias diversas mudanças para que pudessemos fazer operações entre listas.\n",
        "\n",
        "Tarefa 2: Nesta tarefa precisávamos conseguir descrever, por meio da resolução das EDOs que nos foram dadas, o número de pessoas recuperadas num período de 4 semanas, o número máximo de infectados e quando isso ocorreu.\n",
        "\n",
        "Agora, vamos descrevwe um pouco melhor o funcionamento do código em si, começando por algumas peculiaridades, por exemplo a váriavel p, que serve apenas como um \"placeholder\" para que as funções funcionem corretamente, como o metodo RungeKutta retorna 2 listas, quando recebiamos o valor dele em apenas uma váriavel, ela recebia tudo de uma vez, o que resultava em uma comportamente muito bizarro, essa váriavel existe *apenas* para manter o funcionamento do código. Ademais, repetimos duas vezes o processo de salvar apenas os ultimos elementos das listas retornadas pelo RK e então começamos o processo para conseguirmos um bom erro, nesse mesmo momento, aproveitamos para juntarmos as listas retornadas pelo RK em 1, unindo assim o número de infectados com o tempo determinado, daí foi necessário apenas utilizar a função max para que conseguissemos o que o enunciado nos pediu."
      ]
    }
  ]
}