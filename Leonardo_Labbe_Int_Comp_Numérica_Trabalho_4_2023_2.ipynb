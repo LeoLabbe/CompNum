{
  "nbformat": 4,
  "nbformat_minor": 0,
  "metadata": {
    "colab": {
      "provenance": []
    },
    "language_info": {
      "name": "python"
    },
    "kernelspec": {
      "name": "python3",
      "display_name": "Python 3"
    },
    "gpuClass": "standard"
  },
  "cells": [
    {
      "cell_type": "markdown",
      "metadata": {
        "id": "MSRVgJX_J3Nf"
      },
      "source": [
        "#Trabalho prático # 4\n",
        "##Introdução à Computação Numérica\n",
        "\n",
        "###Tópico: Integração numérica\n",
        "\n",
        "---\n",
        "\n",
        "Nome: *Leonardo Labbe*\n",
        "\n",
        "DRE: *122038266*\n",
        "\n",
        "\n",
        "---\n",
        "\n",
        "**Instruções:**\n",
        "\n",
        "**Preencha o notebook** com seus dados, seus códigos e **rode todos os códigos**\n",
        "\n",
        "**Inclua  um relatório, na parte final do notebook,** com suas conclusões, respostas, observações e comentários relacionados com os tópicos e questões abordadas nas tarefas.\n",
        "\n",
        "**A elaboração dos códigos pode ser realizada em duplas, mas o resto do trabalho é individual.**\n",
        "\n",
        "*Se você fez o seu trabalho em dupla inclua essa informação no relatório. Além disso, se você  também recebeu ajuda de um(a) colega/amigo(a) ou consultou/usou informações da internet ou outras fontes, coloque referências à elas no seu relatório.*\n",
        "\n",
        "\n",
        "**Entrega do trabalho:**\n",
        "\n",
        "*Data de entrega: 27/outubro/2023*\n",
        "\n",
        "---\n"
      ]
    },
    {
      "cell_type": "markdown",
      "metadata": {
        "id": "Ud-A5dLPQsTx"
      },
      "source": [
        "## Tarefa #1\n",
        "\n",
        "Implemente funções em Python para aproximar a integral definida\n",
        "$$\n",
        "I = \\int_a^b f(x)\\,dx,\n",
        "$$\n",
        "usando:\n",
        "i) a regra dos trapézios repetida/composta;\n",
        "ii) a regra de Simpson repetida/composta.\n",
        "\n",
        "a) Considere como parâmetros de entrada o espaçamento $h$ entre os nós (pontos) que serão usados e uma lista com os valores da função nesses nós: $f_j = f(a+j\\, h)$,  $j=0,\\dots,n$.\n",
        "\n",
        "b) Considere como parâmetros de entrada o intervalo $[a, b]$, a função $f$ e a quantidade de nós (pontos) que serão usados.\n",
        "\n",
        "**Observação**: Você precisará implementar 4 funções.  Faça as suas próprias implementações desses métodos sem recorrer às implementações de módulos ou bibliotecas de terceiros.\n"
      ]
    },
    {
      "cell_type": "code",
      "source": [
        "#Tarefa 1 - Letra A\n",
        "import numpy as np\n",
        "import math as m\n",
        "\n",
        "def função(x):\n",
        "    return 2 *(x**2)\n",
        "\n",
        "b = 5\n",
        "a = 3\n",
        "h = 0.1\n",
        "nos = 21\n",
        "lista = []\n",
        "\n",
        "for j in range(nos):\n",
        "    x = a + j * h\n",
        "    res = função(x)\n",
        "    lista.append(res)\n",
        "\n",
        "def mTrapezios(h, lista):\n",
        "    n = len(lista) - 1\n",
        "    resultado = 0\n",
        "\n",
        "    for i in range(1, n):\n",
        "        resultado += lista[i]\n",
        "\n",
        "    resultado = resultado * 2\n",
        "    resultado += lista[0]\n",
        "    resultado += lista[n]\n",
        "    resultado = resultado * h/2\n",
        "    return resultado\n",
        "\n",
        "def mSimpson(h, lista):\n",
        "    n = len(lista) - 1\n",
        "    resultado = 0\n",
        "\n",
        "    for i in range(1, n):\n",
        "        if i % 2 == 0:\n",
        "            resultado = resultado + 2 * lista[i]\n",
        "        else:\n",
        "            resultado = resultado + 4 * lista[i]\n",
        "\n",
        "    resultado += lista[0]\n",
        "    resultado += lista[n]\n",
        "    resultado = resultado * h/3\n",
        "    return resultado\n",
        "\n",
        "print(\"Aproximação achada através do Método dos Trapézios:\", mTrapezios(h, lista))\n",
        "print(\"Aproximação achada através do Método de Simpson:\", mSimpson(h, lista))"
      ],
      "metadata": {
        "id": "tkLP1x2H5n72",
        "colab": {
          "base_uri": "https://localhost:8080/"
        },
        "outputId": "0b5b3d33-ef3d-4d09-d62b-457e32244756"
      },
      "execution_count": null,
      "outputs": [
        {
          "output_type": "stream",
          "name": "stdout",
          "text": [
            "Aproximação achada através do Método dos Trapézios: 65.34\n",
            "Aproximação achada através do Método de Simpson: 65.33333333333333\n"
          ]
        }
      ]
    },
    {
      "cell_type": "code",
      "source": [
        "#Tarefa 1 - Letra B\n",
        "import numpy as np\n",
        "import math as m\n",
        "\n",
        "def função(x):\n",
        "    return 2 *(x**2)\n",
        "\n",
        "b = 5\n",
        "a = 3\n",
        "nos = 200\n",
        "lista = []\n",
        "\n",
        "def mTrapezios(a, b, função, nos):\n",
        "    h = (b - a) / nos\n",
        "    resultado = 0\n",
        "\n",
        "    for i in range(1, nos):\n",
        "        resultado += função(a + i*h)\n",
        "\n",
        "    resultado = resultado * 2\n",
        "    resultado += função(a)\n",
        "    resultado += função(b)\n",
        "    resultado = resultado * h/2\n",
        "    return resultado\n",
        "\n",
        "def mSimpson(a, b, função, nos):\n",
        "    h = (b - a) / nos\n",
        "    resultado = 0\n",
        "\n",
        "    for i in range(1, nos):\n",
        "        if i % 2 == 0:\n",
        "            resultado = resultado + 2 * função(a + i*h)\n",
        "        else:\n",
        "            resultado = resultado + 4 * função(a + i*h)\n",
        "\n",
        "    resultado += função(a)\n",
        "    resultado += função(b)\n",
        "    resultado = resultado * h/3\n",
        "    return resultado\n",
        "\n",
        "print(\"Aproximação achada através do Método dos Trapézios:\", mTrapezios(a, b, função, nos))\n",
        "print(\"Aproximação achada através do Método de Simpson:\", mSimpson(a, b, função, nos))"
      ],
      "metadata": {
        "colab": {
          "base_uri": "https://localhost:8080/"
        },
        "id": "iIqmoHXzjQlx",
        "outputId": "b303542d-2de1-4ad6-9a86-a37983d8848d"
      },
      "execution_count": null,
      "outputs": [
        {
          "output_type": "stream",
          "name": "stdout",
          "text": [
            "Aproximação achada através do Método dos Trapézios: 65.33340000000001\n",
            "Aproximação achada através do Método de Simpson: 65.33333333333333\n"
          ]
        }
      ]
    },
    {
      "cell_type": "markdown",
      "source": [
        "##Tarefa #2: Teste as funções implementadas\n",
        "\n",
        "a) Procure uma função $f$ que não seja um polinômio e cuja integral definida pode ser calculada analiticamente (de forma exata) no intervalo escolhido.\n",
        "\n",
        "b) Obtenha aproximações do valor da integral definida dessa função considerando $n=10$, $50$, $100$ e $200$ (note que a quantidade de nós em cada caso será igual a $n+1$). Para cada valor de $n$ obtenha aproximações usando suas implementações das regras dos trapézios e de Simpson.\n",
        "\n",
        "c) Determine os erros absolutos associados com as aproximações obtidas no item b).\n",
        "\n",
        "d) Comente e explique os resultados obtidos em b) e c)."
      ],
      "metadata": {
        "id": "Dt1t2lyEkP7Z"
      }
    },
    {
      "cell_type": "markdown",
      "source": [
        "Tarefa 2 -A) Escolhemos a função sen(x), no intervalo [0,π].\n",
        "\n",
        "A sua integral será -cos(x). Seu valor em π será -(-1), e seu valor em 0 será -1. Logo, -(-1) - (-1) = 2."
      ],
      "metadata": {
        "id": "lYYCQcPvj9Dg"
      }
    },
    {
      "cell_type": "code",
      "source": [
        "#Tarefa 2 - Letra B\n",
        "import numpy as np\n",
        "import math as m\n",
        "\n",
        "def função(x):\n",
        "    return np.sin(x)\n",
        "\n",
        "b = m.pi\n",
        "a = 0\n",
        "nosLista = [10, 50, 100, 200]\n",
        "\n",
        "def mTrapezios(a, b, função, nos):\n",
        "    h = (b - a) / nos\n",
        "    resultado = 0\n",
        "\n",
        "    for i in range(1, nos):\n",
        "        resultado += função(a + i*h)\n",
        "\n",
        "    resultado = resultado * 2\n",
        "    resultado += função(a)\n",
        "    resultado += função(b)\n",
        "    resultado = resultado * h/2\n",
        "    return resultado\n",
        "\n",
        "def mSimpson(a, b, função, nos):\n",
        "    h = (b - a) / nos\n",
        "    resultado = 0\n",
        "\n",
        "    for i in range(1, nos):\n",
        "        if i % 2 == 0:\n",
        "            resultado = resultado + 2 * função(a + i*h)\n",
        "        else:\n",
        "            resultado = resultado + 4 * função(a + i*h)\n",
        "\n",
        "    resultado += função(a)\n",
        "    resultado += função(b)\n",
        "    resultado = resultado * h/3\n",
        "    return resultado\n",
        "\n",
        "\n",
        "for nos in nosLista:\n",
        "    print(nos, \"nós\")\n",
        "    print(\"Aproximação achada através do Método dos Trapézios:\", {format(mTrapezios(a, b, função, nos + 1), '.50f')})\n",
        "    print(\"Aproximação achada através do Método de Simpson:\", {format(mSimpson(a, b, função, nos + 1), '.50f')})\n",
        "    print()"
      ],
      "metadata": {
        "colab": {
          "base_uri": "https://localhost:8080/"
        },
        "id": "fc-8_k_xkE9C",
        "outputId": "f4150bdc-ee7c-4a55-dde4-a751130583c1"
      },
      "execution_count": null,
      "outputs": [
        {
          "output_type": "stream",
          "name": "stdout",
          "text": [
            "10 nós\n",
            "Aproximação achada através do Método dos Trapézios: {'1.98638698658165746557813235995126888155937194824219'}\n",
            "Aproximação achada através do Método de Simpson: {'1.98638698658165768762273728498257696628570556640625'}\n",
            "\n",
            "50 nós\n",
            "Aproximação achada através do Método dos Trapézios: {'1.99936753629151109379336048732511699199676513671875'}\n",
            "Aproximação achada através do Método de Simpson: {'1.99936753629151175992717526241904124617576599121094'}\n",
            "\n",
            "100 nós\n",
            "Aproximação achada através do Método dos Trapézios: {'1.99983874516298554269155829388182610273361206054688'}\n",
            "Aproximação achada através do Método de Simpson: {'1.99983874516298509860234844381920993328094482421875'}\n",
            "\n",
            "200 nós\n",
            "Aproximação achada através do Método dos Trapézios: {'1.99995928465225403236615875357529148459434509277344'}\n",
            "Aproximação achada através do Método de Simpson: {'1.99995928465225492054457845370052382349967956542969'}\n",
            "\n"
          ]
        }
      ]
    },
    {
      "cell_type": "code",
      "source": [
        "#Tarefa 2 - Letra C\n",
        "import numpy as np\n",
        "import math as m\n",
        "\n",
        "def função(x):\n",
        "    return np.sin(x)\n",
        "\n",
        "b = m.pi\n",
        "a = 0\n",
        "nosLista = [10, 50, 100, 200]\n",
        "\n",
        "integralExata = -(np.cos(m.pi)) - -(np.cos(0))\n",
        "\n",
        "def mTrapezios(a, b, função, nos):\n",
        "    h = (b - a) / nos\n",
        "    resultado = 0\n",
        "\n",
        "    for i in range(1, nos):\n",
        "        resultado += função(a + i*h)\n",
        "\n",
        "    resultado = resultado * 2\n",
        "    resultado += função(a)\n",
        "    resultado += função(b)\n",
        "    resultado = resultado * h/2\n",
        "    return resultado\n",
        "\n",
        "def mSimpson(a, b, função, nos):\n",
        "    h = (b - a) / nos\n",
        "    resultado = 0\n",
        "\n",
        "    for i in range(1, nos):\n",
        "        if i % 2 == 0:\n",
        "            resultado = resultado + 2 * função(a + i*h)\n",
        "        else:\n",
        "            resultado = resultado + 4 * função(a + i*h)\n",
        "\n",
        "    resultado += função(a)\n",
        "    resultado += função(b)\n",
        "    resultado = resultado * h/3\n",
        "    return resultado\n",
        "\n",
        "\n",
        "for nos in nosLista:\n",
        "\n",
        "    print(\"Erro absoluto em\", nos, \"nós\")\n",
        "    print(\"Método dos Trapézios:\", {format(abs(integralExata - mTrapezios(a, b, função, nos + 1)), '.50f')})\n",
        "    print(\"Método de Simpson:\", {format(abs(integralExata - mSimpson(a, b, função, nos + 1)), '.50f')})\n",
        "    print()"
      ],
      "metadata": {
        "id": "UulCK7BQj8ka",
        "colab": {
          "base_uri": "https://localhost:8080/"
        },
        "outputId": "776ad670-fe5a-4b67-a73b-0c509ec25c2e"
      },
      "execution_count": null,
      "outputs": [
        {
          "output_type": "stream",
          "name": "stdout",
          "text": [
            "Erro absoluto em 10 nós\n",
            "Método dos Trapézios: {'0.01361301341834253442186764004873111844062805175781'}\n",
            "Método de Simpson: {'0.01361301341834231237726271501742303371429443359375'}\n",
            "\n",
            "Erro absoluto em 50 nós\n",
            "Método dos Trapézios: {'0.00063246370848890620663951267488300800323486328125'}\n",
            "Método de Simpson: {'0.00063246370848824007282473758095875382423400878906'}\n",
            "\n",
            "Erro absoluto em 100 nós\n",
            "Método dos Trapézios: {'0.00016125483701445730844170611817389726638793945312'}\n",
            "Método de Simpson: {'0.00016125483701490139765155618079006671905517578125'}\n",
            "\n",
            "Erro absoluto em 200 nós\n",
            "Método dos Trapézios: {'0.00004071534774596763384124642470851540565490722656'}\n",
            "Método de Simpson: {'0.00004071534774507945542154629947617650032043457031'}\n",
            "\n"
          ]
        }
      ]
    },
    {
      "cell_type": "code",
      "source": [
        "##Explicação da D) se encontra no relatório"
      ],
      "metadata": {
        "id": "f5dsfJ9Mj8ZE"
      },
      "execution_count": null,
      "outputs": []
    },
    {
      "cell_type": "markdown",
      "source": [
        "##Tarefa #3: Aplicação\n",
        "\n",
        "A **integral de Fresnel S(x)** é uma função definida como\n",
        "$$\n",
        "\\mathrm{S}(x) = \\int_0^x \\mathrm{sen}(\\pi\\,t^2/2)\\,dt.\n",
        "$$\n",
        "\n",
        "a) Faça a implementação de uma função que determine o valor aproximado de $\\mathrm{S}(x)$ para qualquer entrada $x$ com um erro absoluto menor que $10^{-8}$. Explique as ideias básicas da sua implementação no seu relatório. **Reaproveite as suas implementações dos métodos de integração numérica desenvolvidas na tarefa 1.**\n",
        "\n",
        "b) Teste a função implementada comparando com os seguintes valores*:\n",
        "\n",
        "i) $\\mathrm{S}(-2) = -0.34341567836369824220$,\n",
        "\n",
        "ii) $\\mathrm{S}(0.5) = 0.064732432859999277611$,\n",
        "\n",
        "iii) $\\mathrm{S}(1) = 0.43825914739035476608$,\n",
        "\n",
        "iv) $\\mathrm{S}(5) = 0.49919138191711688675$.\n",
        "\n",
        "*Os valores apresentados foram calculados com 16 dígitos de precisão.\n",
        "\n",
        "\n"
      ],
      "metadata": {
        "id": "ctpe52U3VFkc"
      }
    },
    {
      "cell_type": "code",
      "source": [
        "#Tarefa 3 - Letra A e B\n",
        "import numpy as np\n",
        "import math as m\n",
        "\n",
        "def função(t):\n",
        "    return np.sin(m.pi * t**2 / 2)0\n",
        "valoresX = [-2, 0.5, 1, 5]\n",
        "valoresComparacao = [-0.34341567836369824220, 0.064732432859999277611, 0.43825914739035476608, 0.49919138191711688675]\n",
        "\n",
        "def mSimpson(a, b, função, nos):\n",
        "    h = (b - a) / nos\n",
        "    resultado = 0\n",
        "\n",
        "    for i in range(1, nos):\n",
        "        if i % 2 == 0:\n",
        "            resultado = resultado + 2 * função(a + i*h)\n",
        "        else:\n",
        "            resultado = resultado + 4 * função(a + i*h)\n",
        "\n",
        "    resultado += função(a)\n",
        "    resultado += função(b)\n",
        "    resultado = resultado * h/3\n",
        "    return resultado\n",
        "\n",
        "def FresnelS(x):\n",
        "    a = 0\n",
        "    b = x\n",
        "    nos = 1\n",
        "    Apro_antiga = mSimpson(a, b, função, nos+1)\n",
        "\n",
        "    while True:\n",
        "        nos = 2*nos\n",
        "        Apro_nova = mSimpson(a, b, função, nos+1)\n",
        "\n",
        "        if abs(Apro_nova - Apro_antiga) < 1e-8:\n",
        "            return Apro_nova\n",
        "\n",
        "        Apro_antiga = Apro_nova\n",
        "\n",
        "print(\"O erro absoluto para S(-2): {:.16f}\". format(abs(-0.34341567836369824220 - FresnelS(-2))),\"\\n\")\n",
        "print(\"O erro absoluto para S(0.5): {:.16f}\". format(abs(0.064732432859999277611 - FresnelS(0.5))),\"\\n\")\n",
        "print(\"O erro absoluto para S(1): {:.16f}\". format(abs(0.43825914739035476608 - FresnelS(1))),\"\\n\")\n",
        "print(\"O erro absoluto para S(5): {:.16f}\". format(abs(0.49919138191711688675 - FresnelS(5))),\"\\n\")"
      ],
      "metadata": {
        "id": "QbG_27yyPAPj",
        "colab": {
          "base_uri": "https://localhost:8080/",
          "height": 194
        },
        "outputId": "40564562-786f-4df3-fbb6-a758797b38e3"
      },
      "execution_count": null,
      "outputs": [
        {
          "output_type": "error",
          "ename": "SyntaxError",
          "evalue": "ignored",
          "traceback": [
            "\u001b[0;36m  File \u001b[0;32m\"<ipython-input-3-f5f5afd524c1>\"\u001b[0;36m, line \u001b[0;32m6\u001b[0m\n\u001b[0;31m    return np.sin(m.pi * t**2 / 2)0\u001b[0m\n\u001b[0m                                  ^\u001b[0m\n\u001b[0;31mSyntaxError\u001b[0m\u001b[0;31m:\u001b[0m invalid syntax\n"
          ]
        }
      ]
    },
    {
      "cell_type": "markdown",
      "metadata": {
        "id": "isWQBJ32XORa"
      },
      "source": [
        "Relatório\n",
        "\n",
        "Tarefa 1: Nessa tarefa vemos a implementação de   metodos de Integração Computacional, começamos com Metodo dos trapézios e depois fizemos o método de Simpson, irei juntar o relatorio das duas questoes, visto que grosseiramente são as mesmas funções, recebendo parametros diferentes, na primeira, recebendo pontos num intervalo e seus valores naquele ponto, e na segunda, o valor da função a ser tratada o intervalo , e o numero de nós nesse intervalo.\n",
        "\n",
        "Ao todo, foram feitos 4 funções.\n",
        "\n",
        "Tarefa 2:\n",
        "\n",
        "A) Na letra A, a função escolhida foi a sen(x), no intervalo [0, π], devido à fácil obtenção de sua integral definida.\n",
        "\n",
        "B) Fizemos aqui implementação dos metodos de Simpson e dos Trapézios para poder resolver a Integral acima no intervalo acima, observando-se o aumento da precisão da aproximação conforme se aumentassem os pontos.\n",
        "\n",
        "C)Na letra C, tivemos de calcular o erro absoluto. Para realiza-lo utilizamos a função cosseno presente na biblioteca numpy, para que pudessemos obter uma aproximação \"exata\" do valor de aproximação. Após o cálculo da integral exata e das aproximações, foi utilizada a função abs() para tirar erro absoluto.\n",
        "\n",
        "Com isso, conseguimos ver a superioridade do metodo de Simpson em relação ao metodo dos Trapézios, visto que a de simpson utiliza uma aproximação de segundo grau\n",
        "\n",
        "Tarefa 3 - Aqui, para obtermos a aproximação da integral de Frenel, utilizamos o metodo de Simpson, visto que esse é mais eficiente em questão de precisão, nossa estratégia para encontrar o erro absoluto aqui, foi encontrar uma função \"exata', para que pudessemos calcular, para obtermos um resultado que agisse de maneira similar, assim, dobramos o número de nós em cada iteração, subindo a precisão cada vez mais a função \"exata\" e assim, comparando as ultimas atualizações com a antiga, conseguimos obter um erro menor do que o pedido pela questão.\n",
        "\n",
        "B) Para essa questão precisavamos testar a nossa função do exercicio acima com os valores propostos por essa questão e em todas, o erro mostrou-se abaixo de 10^-8."
      ]
    }
  ]
}