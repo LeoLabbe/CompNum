{
  "nbformat": 4,
  "nbformat_minor": 0,
  "metadata": {
    "colab": {
      "provenance": []
    },
    "language_info": {
      "name": "python"
    },
    "kernelspec": {
      "name": "python3",
      "display_name": "Python 3"
    }
  },
  "cells": [
    {
      "cell_type": "markdown",
      "metadata": {
        "id": "MSRVgJX_J3Nf"
      },
      "source": [
        "#Trabalho prático # 6\n",
        "##Introdução à Computação Numérica\n",
        "\n",
        "###Tópico: Cálculo de zeros de funções\n",
        "\n",
        "---\n",
        "\n",
        "Nome: *(Leonardo de Souza Rodrigues Labbe)*\n",
        "\n",
        "DRE: *(122038266)*\n",
        "\n",
        "\n",
        "---\n",
        "\n",
        "**Instruções:**\n",
        "\n",
        "**Preencha o notebook** com seus dados, seus códigos e **rode todos os códigos**\n",
        "\n",
        "**Inclua  um relatório, na parte final do notebook,** com suas conclusões, respostas, observações e comentários relacionados com os tópicos e questões abordadas nas tarefas.  \n",
        "\n",
        "**A elaboração dos códigos pode ser realizada em duplas, mas o resto do trabalho é individual.**\n",
        "\n",
        "*Se você fez o seu trabalho em dupla inclua essa informação no relatório. Além disso, se você  também recebeu ajuda de um(a) colega/amigo(a) ou consultou/usou informações da internet ou outras fontes, coloque referências à elas no seu relatório.*\n",
        "\n",
        "\n",
        "**Entrega do trabalho:**\n",
        "\n",
        "*Data de entrega: 13/dezembro/2023*\n",
        "\n",
        "---\n"
      ]
    },
    {
      "cell_type": "markdown",
      "metadata": {
        "id": "Ud-A5dLPQsTx"
      },
      "source": [
        "## Tarefa #1:\n",
        "\n",
        " Desenvolver códigos, na forma de funções, que implementem os seguintes métodos:\n",
        "\n",
        "a) Método da bissecção.\n",
        "\n",
        "b) Método de Newton-Raphson.  \n",
        "\n",
        "c) Método da secante.\n",
        "\n",
        "Sugestão: implemente os métodos na forma de funções que devolvem na saída uma mensagem de erro ou o valor aproximado do zero procurado. Evite a possibilidade de laços infinitos considerando um número máximo de iterações como parâmetro de entrada.\n"
      ]
    },
    {
      "cell_type": "code",
      "metadata": {
        "id": "jK7hw9i2Onjt",
        "colab": {
          "base_uri": "https://localhost:8080/"
        },
        "outputId": "fa354d71-978a-414d-e344-bebe8ffa5331"
      },
      "source": [
        "import numpy as np\n",
        "import math as m\n",
        "\n",
        "def bissecao(f, a, b, maxIteracoes):\n",
        "    erroMax = 1e-10\n",
        "    sinal_fa = np.sign(f(a))\n",
        "\n",
        "\n",
        "    if f(a) == 0:\n",
        "        return f\"Raiz encontrada: {a:.10f}\"\n",
        "    if f(b) == 0:\n",
        "        return f\"Raiz encontrada: {b:.10f}\"\n",
        "\n",
        "    n = 0\n",
        "    while (b - a) / 2 > erroMax:\n",
        "        p = (a + b) / 2\n",
        "        fp = f(p)\n",
        "\n",
        "\n",
        "        if fp == 0 or (b - a) / 2 < erroMax:\n",
        "            return f\"Raiz encontrada: {p:.10f}\"\n",
        "\n",
        "\n",
        "        if np.sign(fp) == sinal_fa:\n",
        "            a = p\n",
        "        else:\n",
        "            b = p\n",
        "\n",
        "\n",
        "        n += 1\n",
        "        if n >= maxIteracoes:\n",
        "            return \"Número máximo de iterações atingido. Raiz não encontrada ou precisa de mais iterações.\"\n",
        "\n",
        "    return f\"Raiz aproximada: {(a + b) / 2:.10f}\"\n",
        "\n",
        "\n",
        "\n",
        "def f(x):\n",
        "    return x**2 - x - 2\n",
        "\n",
        "a = -10\n",
        "b = 10\n",
        "maxIteracoes = 100\n",
        "\n",
        "resultado = bissecao(f, a, b, maxIteracoes)\n",
        "print(resultado)"
      ],
      "execution_count": null,
      "outputs": [
        {
          "output_type": "stream",
          "name": "stdout",
          "text": [
            "Raiz aproximada: -1.0000000000\n"
          ]
        }
      ]
    },
    {
      "cell_type": "code",
      "metadata": {
        "id": "0OcP16TOOxMX",
        "colab": {
          "base_uri": "https://localhost:8080/"
        },
        "outputId": "105dd65e-2afe-4f2c-8dc5-900a2132572d"
      },
      "source": [
        "import numpy as np\n",
        "import math as m\n",
        "def newton_raphson(f, df, p0, max_iteracoes):\n",
        "\n",
        "\n",
        "    pn = p0\n",
        "    erro_max = 1e-10\n",
        "\n",
        "    for n in range(max_iteracoes):\n",
        "        f_pn = f(pn)\n",
        "        df_pn = df(pn)\n",
        "\n",
        "        if abs(df_pn) < erro_max:\n",
        "            return f\"Erro: a derivada é muito próxima de zero, o método falhou na iteração {n}.\"\n",
        "\n",
        "\n",
        "        pn_next = pn - f_pn / df_pn\n",
        "\n",
        "\n",
        "        if abs(pn_next - pn) < erro_max:\n",
        "            return f\"Raiz encontrada: {pn_next:.10f}\"\n",
        "\n",
        "\n",
        "        pn = pn_next\n",
        "\n",
        "    return \"Número máximo de iterações atingido. Aumente o número de iterações ou reveja o chute inicial.\"\n",
        "\n",
        "\n",
        "def f(x):\n",
        "    return x**2 - x - 2\n",
        "\n",
        "def df(x):\n",
        "    return 2*x - 1\n",
        "\n",
        "\n",
        "p0 = 1.5\n",
        "max_iteracoes = 100\n",
        "\n",
        "\n",
        "resultado = newton_raphson(f,df, p0, max_iteracoes)\n",
        "print(resultado)"
      ],
      "execution_count": null,
      "outputs": [
        {
          "output_type": "stream",
          "name": "stdout",
          "text": [
            "Raiz encontrada: 2.0000000000\n"
          ]
        }
      ]
    },
    {
      "cell_type": "code",
      "metadata": {
        "id": "iZxnSoTJpEb7",
        "colab": {
          "base_uri": "https://localhost:8080/"
        },
        "outputId": "2e3da859-661e-448c-9d49-dd9c8ca2148e"
      },
      "source": [
        "import numpy as np\n",
        "import math as m\n",
        "\n",
        "def metodo_secante(f, p0, p1, n_iter):\n",
        "    erroMax = 1e-10\n",
        "\n",
        "    for k in range(1, n_iter + 1):\n",
        "        p = p1 - f(p1) * (p1 - p0) / (f(p1) - f(p0))\n",
        "\n",
        "        if abs(p - p1) < erroMax:\n",
        "            return f\"Raiz encontrada: {p:.10f}\"\n",
        "\n",
        "        p0, p1 = p1, p\n",
        "\n",
        "    return \"Tolerância não atingida; pode ser necessário mais iterações ou revisar as aproximações iniciais.\"\n",
        "\n",
        "def f(x):\n",
        "    return x**2 - x - 2\n",
        "\n",
        "p0 = -2\n",
        "p1 = 2\n",
        "n_iter = 100\n",
        "\n",
        "resultado = metodo_secante(f, p0, p1, n_iter)\n",
        "print(resultado)"
      ],
      "execution_count": null,
      "outputs": [
        {
          "output_type": "stream",
          "name": "stdout",
          "text": [
            "Raiz encontrada: 2.0000000000\n"
          ]
        }
      ]
    },
    {
      "cell_type": "code",
      "source": [],
      "metadata": {
        "id": "U5Lo4HMol9fG"
      },
      "execution_count": null,
      "outputs": []
    },
    {
      "cell_type": "markdown",
      "metadata": {
        "id": "7tYAya4HLflB"
      },
      "source": [
        "\n",
        "## Tarefa #2:\n",
        "\n",
        "\n",
        "a) A equação de van der Waals\n",
        "           \t\t$$\\left(p+\\frac{a}{v^2} \\right)(v-b)=R T,$$\n",
        "\n",
        "onde $p$ é a pressão, $v$ representa o volume molar, $a$ e $b$ são constantes empíricas que dependem do gás,  $R$ representa a constante universal dos gases e $T$ é a temperatura absoluta.\n",
        "Determine os volumes molares do dióxido de carbono a uma temperatura  absoluta $T=300\\,K$ e pressão de $1$, $10$, $50$ e $100 \\,atm$, respectivamente.\n",
        "Os valores das constantes são $R=0.082054 \\,L\\, atm/(mol K)$, $a=3.592 \\,L^2 atm/mol^2$ e $b=0.04267 L/mol$.\n",
        "\n",
        "Use dois dos métodos implementados considerando uma tolerância $\\varepsilon=5\\cdot10^{-6}$.\n",
        "\n",
        "b) Compare os resultados dos dois métodos usados, considerando os valores obtidos e a quantidade de iterações realizadas. Escreva suas observações no relatório.\n"
      ]
    },
    {
      "cell_type": "code",
      "metadata": {
        "id": "MdDfWSqzQQwJ",
        "colab": {
          "base_uri": "https://localhost:8080/"
        },
        "outputId": "75d42a55-6c6f-4684-806e-c5641c690b79"
      },
      "source": [
        "import numpy as np\n",
        "import math as m\n",
        "\n",
        "def van_der_Waals_equation(v, P):\n",
        "    R = 0.082054\n",
        "    a = 3.592\n",
        "    b = 0.04267\n",
        "    T = 300\n",
        "    return (P + a / v**2) * (v - b) - R * T\n",
        "\n",
        "def derivative_van_der_Waals(v, P):\n",
        "    a = 3.592\n",
        "    b = 0.04267\n",
        "    return P + a / v**2 - 2 * b * (P + a / v**2) / v - 2 * a / v**3\n",
        "\n",
        "def bissecao_van_der_Waals(P, a_intervalo, b_intervalo, tolerancia=5e-6):\n",
        "    if van_der_Waals_equation(a_intervalo, P) * van_der_Waals_equation(b_intervalo, P) >= 0:\n",
        "        return \"Erro: A função deve ter sinais diferentes em 'a' e 'b.'\"\n",
        "\n",
        "    iteracao = 0\n",
        "    while (b_intervalo - a_intervalo) / 2 > tolerancia:\n",
        "        c = (a_intervalo + b_intervalo) / 2\n",
        "        if van_der_Waals_equation(c, P) == 0 or (b_intervalo - a_intervalo) / 2 < tolerancia:\n",
        "            return f\"Aproximação da raiz: {c} (Iterações: {iteracao})\"\n",
        "        elif van_der_Waals_equation(c, P) * van_der_Waals_equation(a_intervalo, P) < 0:\n",
        "            b_intervalo = c\n",
        "        else:\n",
        "            a_intervalo = c\n",
        "        iteracao += 1\n",
        "\n",
        "    return f\"Aproximação da raiz: {(a_intervalo + b_intervalo) / 2} (Iterações: {iteracao})\"\n",
        "\n",
        "def newton_raphson_van_der_Waals(P, x0, tolerancia=5e-6, max_iter=10000):\n",
        "    iteracao = 0\n",
        "    x = x0\n",
        "    while abs(van_der_Waals_equation(x, P)) > tolerancia and iteracao < max_iter:\n",
        "        df_x = derivative_van_der_Waals(x, P)\n",
        "        if abs(df_x) < tolerancia:\n",
        "            return f\"Erro: Derivada próxima de zero na iteração {iteracao}.\"\n",
        "        x -= van_der_Waals_equation(x, P) / df_x\n",
        "        iteracao += 1\n",
        "        if abs(van_der_Waals_equation(x, P)) < tolerancia:\n",
        "            return f\"Aproximação da raiz: {x} (Iterações: {iteracao})\"\n",
        "    return \"Número máximo de iterações atingido.\"\n",
        "\n",
        "\n",
        "pressoes = [1, 10, 50, 100]\n",
        "R = 0.082054\n",
        "T = 300\n",
        "chutes_iniciais = [R * T / p for p in pressoes]\n",
        "\n",
        "for P in pressoes:\n",
        "    print(f\"\\nPressão: {P} atm\")\n",
        "\n",
        "\n",
        "    a_intervalo, b_intervalo = 0.1, 10 * chutes_iniciais[pressoes.index(P)]\n",
        "    resultado_bissecao = bissecao_van_der_Waals(P, a_intervalo, b_intervalo)\n",
        "    print(f\"Bisseção: {resultado_bissecao}\")\n",
        "\n",
        "\n",
        "    x0 = chutes_iniciais[pressoes.index(P)]\n",
        "    resultado_newton_raphson = newton_raphson_van_der_Waals(P, x0)\n",
        "    print(f\"Newton-Raphson: {resultado_newton_raphson}\")"
      ],
      "execution_count": null,
      "outputs": [
        {
          "output_type": "stream",
          "name": "stdout",
          "text": [
            "Pressão: 1 atm\n",
            "Bisseção: Volume Molar = 24.512585392049253 L/mol\n",
            "Newton-Raphson: Volume Molar = 0.04266999989917551 L/mol\n",
            "Pressão: 10 atm\n",
            "Bisseção: Volume Molar = 2.3544968474056724 L/mol\n",
            "Newton-Raphson: Volume Molar = 0.042669999882676043 L/mol\n",
            "Pressão: 50 atm\n",
            "Bisseção: Volume Molar = 0.3584177747646332 L/mol\n",
            "Newton-Raphson: Volume Molar = 0.3584355594385288 L/mol\n",
            "Pressão: 100 atm\n",
            "Bisseção: Volume Molar = 0.07950698116264342 L/mol\n",
            "Newton-Raphson: Volume Molar = 0.07998374635470812 L/mol\n"
          ]
        }
      ]
    },
    {
      "cell_type": "code",
      "metadata": {
        "id": "tIQrfKnLuoHf"
      },
      "source": [
        "# Adicione aqui os códigos do item b)"
      ],
      "execution_count": null,
      "outputs": []
    },
    {
      "cell_type": "markdown",
      "metadata": {
        "id": "_tnziy1_QN7q"
      },
      "source": [
        "##Tarefa #3:  \n",
        "\n",
        "Observe que o número $\\pi$ é um zero das funções:\n",
        "\n",
        "i) $f(x)= \\cos(x)+1$\n",
        "\n",
        "ii) $f(x)= \\mathrm{sen}(x)$\n",
        "\n",
        "a) Use sua implementação do método de Newton-Raphson para obter aproximações de considerando as funções acima e uma tolerância $\\varepsilon =10^{-16}$.\n",
        "\n",
        "b) Compare os resultados dos itens i) e ii), considerando os erros das aproximações obtidas com relação ao valor \"exato\" dado pelo Python no módulo math e a quantidade de iterações efetuadas. Escreva suas observações no relatório.\n",
        "\n",
        "c) Explique o que foi observado no item b) no seu relatório.\n"
      ]
    },
    {
      "cell_type": "code",
      "metadata": {
        "id": "EeBLhaNnRZS8",
        "colab": {
          "base_uri": "https://localhost:8080/"
        },
        "outputId": "d5a1524e-41b4-45cf-fb64-05b422fafc9d"
      },
      "source": [
        "import numpy as np\n",
        "import math as m\n",
        "\n",
        "def newton_raphson(f, df, p0, max_iteracoes):\n",
        "    pn = p0\n",
        "    erro_max = 1e-16\n",
        "\n",
        "    for n in range(max_iteracoes):\n",
        "        f_pn = f(pn)\n",
        "        df_pn = df(pn)\n",
        "\n",
        "        if abs(df_pn) < erro_max:\n",
        "            return f\"Erro: a derivada é muito próxima de zero, o método falhou na iteração {n}.\"\n",
        "\n",
        "\n",
        "        pn_next = pn - f_pn / df_pn\n",
        "\n",
        "\n",
        "        if abs(pn_next - pn) < erro_max:\n",
        "            return pn_next\n",
        "\n",
        "\n",
        "        pn = pn_next\n",
        "\n",
        "    return \"Número máximo de iterações atingido. Aumente o número de iterações ou reveja o chute inicial.\"\n",
        "\n",
        "def fsen(x):\n",
        "    return m.sin(x)\n",
        "\n",
        "def fcos(x):\n",
        "    return m.cos(x) + 1\n",
        "\n",
        "def dfsen(x):\n",
        "    return m.cos(x)\n",
        "\n",
        "def dfcos(x):\n",
        "    return -(m.sin(x))\n",
        "\n",
        "p0 = 3\n",
        "max_iteracoes = 10000\n",
        "\n",
        "resultadoSen = newton_raphson(fsen,dfsen, p0, max_iteracoes)\n",
        "resultadoCos = newton_raphson(fcos,dfcos, p0, max_iteracoes)\n",
        "\n",
        "print(\"Seno: \", resultadoSen)\n",
        "print(\"Cosseno: \", resultadoCos)"
      ],
      "execution_count": null,
      "outputs": [
        {
          "output_type": "stream",
          "name": "stdout",
          "text": [
            "Seno:  3.141592653589793\n",
            "Cosseno:  3.14159265109478\n"
          ]
        }
      ]
    },
    {
      "cell_type": "code",
      "metadata": {
        "id": "eV41TV4jWBLO",
        "colab": {
          "base_uri": "https://localhost:8080/"
        },
        "outputId": "afa4a77a-8163-4feb-884c-25e8937f78d8"
      },
      "source": [
        "import numpy as np\n",
        "import math as m\n",
        "\n",
        "def newton_raphson(f, df, p0, max_iteracoes):\n",
        "    pn = p0\n",
        "    erro_max = 1e-16\n",
        "\n",
        "    for n in range(max_iteracoes):\n",
        "        f_pn = f(pn)\n",
        "        df_pn = df(pn)\n",
        "\n",
        "        if abs(df_pn) < erro_max:\n",
        "            return f\"Erro: a derivada é muito próxima de zero, o método falhou na iteração {n}.\"\n",
        "\n",
        "\n",
        "        pn_next = pn - f_pn / df_pn\n",
        "\n",
        "\n",
        "        if abs(pn_next - pn) < erro_max:\n",
        "            return pn_next\n",
        "\n",
        "\n",
        "        pn = pn_next\n",
        "\n",
        "    return \"Número máximo de iterações atingido. Aumente o número de iterações ou reveja o chute inicial.\"\n",
        "\n",
        "def fsen(x):\n",
        "    return m.sin(x)\n",
        "\n",
        "def fcos(x):\n",
        "    return m.cos(x) + 1\n",
        "\n",
        "def dfsen(x):\n",
        "    return m.cos(x)\n",
        "\n",
        "def dfcos(x):\n",
        "    return -(m.sin(x))\n",
        "\n",
        "p0 = 3\n",
        "max_iteracoes = 10000\n",
        "\n",
        "resultadoSen = newton_raphson(fsen,dfsen, p0, max_iteracoes)\n",
        "resultadoCos = newton_raphson(fcos,dfcos, p0, max_iteracoes)\n",
        "\n",
        "print(\"Erro Seno: \", abs(m.pi - resultadoSen))\n",
        "print(\"Erro Cosseno: \", abs(m.pi - resultadoCos))"
      ],
      "execution_count": null,
      "outputs": [
        {
          "output_type": "stream",
          "name": "stdout",
          "text": [
            "Erro Seno:  0.0\n",
            "Erro Cosseno:  2.4950130850243113e-09\n"
          ]
        }
      ]
    },
    {
      "cell_type": "markdown",
      "metadata": {
        "id": "isWQBJ32XORa"
      },
      "source": [
        "## Relatório\n",
        "\n",
        "Este código foi feito em colaboração com o aluno Matheus Hack\n",
        "\n",
        "Tarefa 1: a) Aqui, implementamos o metodo da bisseção de acordo com os slides da matéria, foi necessário apenas fazer o tratamento caso tivessemos sinais de a e b sendo iguais, fizemos isso para todos os métodos.\n",
        "\n",
        "b) Similarmente, fizemos nos mesmo moldes do slide, um ponto bom a se observar é que este metodo esta escolhendo a raiz mais proxima do \"chute\" que fizemos em p0.\n",
        "\n",
        "c) Sem comentarios particulares para ser feito sobre esse método, feito nos mesmos moldes do slide.\n",
        "\n",
        "\n",
        "Tarefa 2: Escolhemos os metodos que considerávamos \"opostos\", o mais simples de se implementar, e o mais rápido na resolução, o da bisseção e o Newton-Raphson. Tivemos problemas com a implementação da bissecante, onde o A e o B que passavamos na função estavam conflitando com os da Van Der Waal. Observando os resultados, conseguimos ver a superioridade do metodo de NewtonR, entretanto, vemos que nos dois ultimos valores, ele acaba explodindo e não completando o resultado, acreditamos que isso se deve ao chute inicial que fizemos para a função, vemos que, apesar da superioridade ainda há o risco deste tipo de coisa acontecer.\n",
        "\n",
        "\n",
        "Tarefa 3: Implementamos o Newton-Raphson para os moldes que nos foram pedido, inserimos as funções e suas derivadas a mão e conseguimos obter os resultados das aproximações das raizes, no caso, PI. Entretanto, quando comparamos os erros, observamos que a função seno possui um erro de 0 quando comparado com o valor da math, enquanto o cosseno chega num valor absurdamente proximo, porém não zero, possuimos teorias sobre o motivo disso ocorrer, seja pela perda de precisão as operações matemáticas do python, como o + 1 somado ao cos(x) ou pela mudança de imagem da função cosseno após a soma desse valor."
      ]
    }
  ]
}